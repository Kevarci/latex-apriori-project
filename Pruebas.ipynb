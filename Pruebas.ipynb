{
 "cells": [
  {
   "cell_type": "code",
   "execution_count": 1,
   "metadata": {},
   "outputs": [],
   "source": [
    "import pandas as pd\n",
    "import numpy as np\n",
    "from mlxtend.preprocessing import TransactionEncoder\n",
    "from mlxtend.frequent_patterns import apriori, association_rules\n",
    "import random"
   ]
  },
  {
   "cell_type": "code",
   "execution_count": 2,
   "metadata": {},
   "outputs": [],
   "source": [
    "productos = ['pan', 'leche', 'huevos', 'queso', 'yogurt', 'manzanas', 'plátanos', 'naranjas', 'pollo', 'carne', 'pescado', 'arroz', 'pasta', 'cereal', 'café', 'té', 'azúcar', 'sal', 'aceite',  'galletas', 'chocolate', 'papas fritas', 'refresco', 'agua', 'cerveza']\n",
    "\n",
    "num_transacciones = 1000\n",
    "transacciones = []"
   ]
  },
  {
   "cell_type": "code",
   "execution_count": null,
   "metadata": {},
   "outputs": [],
   "source": [
    "for i in range(num_transacciones):\n",
    "    num_productos = random.randint(1, 8)\n",
    "    transaccion = random.sample(productos, num_productos)\n",
    "    transacciones.append(transaccion)\n",
    "\n",
    "for i in range(200):\n",
    "    if 'pan' in transacciones[i] and random.random() < 0.8:\n",
    "        if 'leche' not in transacciones[i]:\n",
    "            transacciones[i].append('leche')\n",
    "            \n",
    "for i in range(200, 400):\n",
    "    if 'pasta' in transacciones[i] and random.random() < 0.7:\n",
    "        if 'salsa de tomate' not in transacciones[i]:\n",
    "            transacciones[i].append('salsa de tomate')\n",
    "\n",
    "for i in range(400, 600):\n",
    "    if 'cerveza' in transacciones[i] and random.random() < 0.75:\n",
    "        if 'papas fritas' not in transacciones[i]:\n",
    "            transacciones[i].append('papas fritas')\n",
    "\n",
    "te = TransactionEncoder()\n",
    "te_ary = te.fit(transacciones).transform(transacciones)\n",
    "df = pd.DataFrame(te_ary, columns=te.columns_)"
   ]
  },
  {
   "cell_type": "code",
   "execution_count": 4,
   "metadata": {},
   "outputs": [
    {
     "name": "stdout",
     "output_type": "stream",
     "text": [
      "Primeras 5 transacciones:\n",
      "Transacción 1: ['huevos', 'arroz', 'yogurt']\n",
      "Transacción 2: ['pescado', 'pasta', 'plátanos']\n",
      "Transacción 3: ['arroz', 'pasta', 'queso', 'manzanas', 'leche', 'refresco', 'pescado', 'papas fritas']\n",
      "Transacción 4: ['pollo', 'leche', 'huevos', 'sal']\n",
      "Transacción 5: ['azúcar', 'carne']\n",
      "\n",
      "Dimensiones del dataset: (1000, 26)\n",
      "\n",
      "Reglas de asociación más fuertes:\n",
      "  antecedents consequents  antecedent support  consequent support  support  \\\n",
      "0       (pan)     (leche)               0.171               0.214    0.056   \n",
      "\n",
      "   confidence      lift  representativity  leverage  conviction  \\\n",
      "0    0.327485  1.530306               1.0  0.019406    1.168748   \n",
      "\n",
      "   zhangs_metric   jaccard  certainty  kulczynski  \n",
      "0       0.418017  0.170213   0.144383    0.294584  \n"
     ]
    }
   ],
   "source": [
    "df.to_csv('market_basket_dataset.csv', index=False)\n",
    "\n",
    "print(\"Primeras 5 transacciones:\")\n",
    "for i in range(5):\n",
    "    print(f\"Transacción {i+1}: {transacciones[i]}\")\n",
    "\n",
    "print(\"\\nDimensiones del dataset:\", df.shape)\n",
    "\n",
    "frequent_itemsets = apriori(df, min_support=0.05, use_colnames=True)\n",
    "\n",
    "rules = association_rules(frequent_itemsets, metric=\"confidence\", min_threshold=0.3)\n",
    "\n",
    "print(\"\\nReglas de asociación más fuertes:\")\n",
    "print(rules.sort_values('confidence', ascending=False).head(10))"
   ]
  }
 ],
 "metadata": {
  "kernelspec": {
   "display_name": "Python 3",
   "language": "python",
   "name": "python3"
  },
  "language_info": {
   "codemirror_mode": {
    "name": "ipython",
    "version": 3
   },
   "file_extension": ".py",
   "mimetype": "text/x-python",
   "name": "python",
   "nbconvert_exporter": "python",
   "pygments_lexer": "ipython3",
   "version": "3.13.0"
  }
 },
 "nbformat": 4,
 "nbformat_minor": 2
}
